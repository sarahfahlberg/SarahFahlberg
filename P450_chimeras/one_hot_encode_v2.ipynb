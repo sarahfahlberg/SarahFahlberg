{
 "cells": [
  {
   "cell_type": "code",
   "execution_count": 1,
   "metadata": {},
   "outputs": [],
   "source": [
    "import pickle\n",
    "\n",
    "AA_seqs, thermo_data = pickle.load( open( \"save.p\", \"rb\" ) )\n",
    "\n",
    "y_data = []\n",
    "for i in thermo_data:\n",
    "    y_data.append(float(i[1]))\n"
   ]
  },
  {
   "cell_type": "code",
   "execution_count": 2,
   "metadata": {},
   "outputs": [],
   "source": [
    "parents = AA_seqs[0:3]\n",
    "\n",
    "anything = AA_seqs\n"
   ]
  },
  {
   "cell_type": "code",
   "execution_count": 3,
   "metadata": {},
   "outputs": [
    {
     "name": "stdout",
     "output_type": "stream",
     "text": [
      "[55.0, 43.0, 49.0, 39.8, 52.9, 48.8, 45.0, 48.3, 61.5, 54.6, 51.2, 47.3, 51.6, 45.4, 50.8, 43.3, 53.4, 49.1, 52.6, 39.2, 47.9, 46.8, 51.0, 47.8, 49.4, 53.3, 56.9, 46.0, 51.2, 50.6, 47.1, 45.7, 42.9, 47.9, 48.4, 48.7, 49.1, 52.6, 49.3, 47.3, 45.6, 63.2, 50.6, 50.7, 50.3, 51.3, 39.5, 48.9, 46.6, 54.9, 52.9, 53.0, 53.8, 48.7, 52.0, 50.8, 51.1, 60.0, 47.2, 51.7, 51.0, 49.0, 48.0, 42.4, 45.7, 50.5, 58.5, 56.9, 49.3, 47.4, 48.0, 49.9, 46.3, 49.5, 44.9, 51.0, 48.5, 52.8, 52.5, 42.5, 49.6, 45.4, 50.7, 52.4, 49.0, 50.1, 57.9, 53.7, 46.5, 50.5, 46.6, 58.9, 50.5, 54.9, 51.3, 49.9, 62.4, 44.8, 48.3, 47.9, 50.4, 51.9, 56.1, 54.2, 44.0, 54.8, 50.6, 40.6, 55.7, 51.8, 47.5, 46.4, 58.5, 45.5, 50.9, 49.3, 50.3, 53.8, 53.0, 48.8, 55.3, 49.5, 50.4, 51.0, 47.4, 43.5, 50.9, 49.4, 46.3, 48.4, 43.9, 52.3, 64.4, 53.1, 43.1, 50.1, 51.4, 50.9, 47.2, 54.9, 61.2, 51.9, 54.4, 47.7, 50.6, 46.3, 50.5, 54.3, 44.0, 43.6, 56.9, 60.0, 43.1, 48.8, 56.3, 48.8, 53.0, 53.0, 56.2, 46.7, 48.4, 57.2, 47.1, 49.7, 47.8, 49.1, 48.5, 51.1, 46.3, 49.2, 46.0, 49.9, 46.4, 54.7, 58.0, 50.8, 50.4, 52.0, 53.8, 52.0, 48.0, 40.9, 59.9, 54.7, 58.8, 53.0, 49.9, 47.1, 44.5, 60.8, 44.2, 49.2, 50.7, 53.3, 55.9, 46.2, 50.9, 57.8, 51.2, 62.9, 61.0, 57.1, 60.0, 55.6, 59.1, 63.5, 64.4, 47.9, 60.6, 59.2, 63.1, 62.9, 62.2, 62.8, 62.7, 62.2, 59.3, 60.1, 61.0, 60.0, 59.1, 64.3, 61.2, 60.6, 59.9, 63.2, 61.0, 58.9, 60.1, 60.9, 61.0, 58.5, 59.3, 61.6, 59.0, 60.0, 61.6, 58.7, 58.2, 58.0, 61.0, 58.7]\n"
     ]
    }
   ],
   "source": [
    "print (y_data)"
   ]
  },
  {
   "cell_type": "code",
   "execution_count": 4,
   "metadata": {},
   "outputs": [],
   "source": [
    "# This function one-hot encodes a list of sequences based on the parents\n",
    "# anything - a list variable containing strings that represent each of the sequences to be encoded\n",
    "# parents - a list variable containting strings of the sequences that all of the sequences are based on\n",
    "# interval - the number of characters that separate each individual position. Ex: For DNA codons interval = 3\n",
    "# return anything_encoded - a list containing a list for each one-hot encoded sequence\n",
    "# return pos_coding - a list variable used for decoding sequences\n",
    "def oneHotEncodeOptimizedv2 (anything, parents, interval=1):\n",
    "    #    First creates a matrix called pos_coding of all the possible positions\n",
    "    #    Ex: If parents are ['ATR', 'AYR', 'RQR'] with interval=1, then pos_coding =\n",
    "    #    |[A, R]   |\n",
    "    #    |[T, Y, Q]|\n",
    "    #    |[R]      |\n",
    "    #    pos_coding is also used in the decoding algorithm\n",
    "    pos_coding = []\n",
    "    # At each position in the sequences:\n",
    "    for i in range(int(len(parents[0])/interval)):\n",
    "        pos_coding.append([])\n",
    "        # Each new code will be appended to the list of codes for that position\n",
    "        for j in range(len(parents)):\n",
    "            if (pos_coding[i].count(parents[j][i*interval:(i+1)*interval])==0):\n",
    "                pos_coding[i].append(parents[j][i*interval:(i+1)*interval])\n",
    "    # Encoding algorithm\n",
    "    anything_encoded = []\n",
    "    for i in range(len(anything)):\n",
    "        # Appends a 1 to the first position of each encoded sequence for normalization\n",
    "        individual_encoded = [1]\n",
    "        for j in range(len(pos_coding)):\n",
    "            pos = anything[i][j*interval:(j+1)*interval]\n",
    "            num = pos_coding[j].index(pos)\n",
    "            # Appends a 0 for when the code equals one of the codes in pos_coding for that position\n",
    "            for k in range(len(pos_coding[j])-1):\n",
    "                if ((k+1)==num):\n",
    "                    individual_encoded.append(1)\n",
    "                else:\n",
    "                    individual_encoded.append(0)\n",
    "        # Appends the individual sequence to the list of encoded sequences\n",
    "        anything_encoded.append(individual_encoded)\n",
    "    \n",
    "    return anything_encoded, pos_coding\n",
    "\n",
    "# This function decodes a list of sequences that have been one-hot encoded by the oneHotEncodeOptimizedv2 function\n",
    "# anything - a list/matrix of one hot-encoded sequences\n",
    "# pos_coding - a list variable obtained when one-hot encoding the original sequences\n",
    "# interval - the number of characters that separate each individual position. Ex: For DNA codons interval = 3\n",
    "# returns anything_decoded - a list variable containting strings of the decoded sequences\n",
    "def decodeOneHotEncodeOptimizedv2 (anything, pos_coding, interval=1):\n",
    "    \n",
    "    anything_decoded = []\n",
    "    for i in range(len(anything)):\n",
    "        # decodes each individual and appends it to a list of all decoded sequences\n",
    "        individual_encoded = anything[i].copy()\n",
    "        # removes the first normalizing 1 before decoding\n",
    "        individual_encoded.remove(1)\n",
    "        individual_decoded = ''\n",
    "        curr_pos = 0                                    \n",
    "        for j in range(len(pos_coding)):\n",
    "            # grabs the code for a single position and then decodes it\n",
    "            pos = individual_encoded[curr_pos:curr_pos+interval*(len(pos_coding[j])-1)]\n",
    "            try:\n",
    "                #searches for a 1\n",
    "                ind = pos.index(1)\n",
    "                # appends the matching parent's original code\n",
    "                individual_decoded = individual_decoded + pos_coding[j][ind+1]\n",
    "            except ValueError:\n",
    "                # this is reached if the current position is the same as in parent 1 -> appends parent 1 for this pos\n",
    "                individual_decoded = individual_decoded + pos_coding[j][0]\n",
    "            curr_pos += len(pos_coding[j])-1\n",
    "        anything_decoded.append(individual_decoded)\n",
    "    return anything_decoded\n"
   ]
  },
  {
   "cell_type": "code",
   "execution_count": 5,
   "metadata": {},
   "outputs": [],
   "source": [
    "AA_seqs_encoded, pos_coding = oneHotEncodeOptimizedv2(anything, parents)\n",
    "\n",
    "AA_seqs_decoded = decodeOneHotEncodeOptimizedv2(AA_seqs_encoded, pos_coding)\n"
   ]
  },
  {
   "cell_type": "markdown",
   "metadata": {},
   "source": [
    "Code to test oneHotEncode and decodeOneHotEncode methods"
   ]
  },
  {
   "cell_type": "markdown",
   "metadata": {},
   "source": [
    "#parents = ['AAACCCTTT','AAACCGTTT','ACACCATTT']\n",
    "#anything = ['AAACCCTTT','AAACCGTTT','ACACCATTT','ACACCCTTT','AAACCATTT','ACACCGTTT']\n",
    "parents = ['AAAAAA','CCCCCC','GGGGGG','ACTACT']\n",
    "anything = ['AAAAAA','CCCCCC','GGGGGG','ACTACT','AAACCC','GGGACT']\n",
    "\n",
    "print (anything)\n",
    "\n",
    "code, pos_coding = oneHotEncodeOptimizedv2(anything, parents, 1)\n",
    "decode = decodeOneHotEncodeOptimizedv2(code,pos_coding)\n",
    "\n",
    "\n",
    "print(decode)\n"
   ]
  },
  {
   "cell_type": "markdown",
   "metadata": {},
   "source": [
    "#Ensures that sequences are being encoded and decoded properly such that no data is lost <br />\n",
    "print (AA_seqs == AA_seqs_decoded)"
   ]
  },
  {
   "cell_type": "code",
   "execution_count": 6,
   "metadata": {},
   "outputs": [],
   "source": [
    "# Least squares linear regression function\n",
    "\n",
    "import numpy as np\n",
    "\n",
    "# X - a numpy array representing the independent variable/sequence\n",
    "# y - a numpy array representing the dependent variable\n",
    "# Returns a beta_hat such that y=BX where beta_hat reduces the least square error\n",
    "def LinearRegressionV1(X, y):\n",
    "    beta_hat = np.linalg.pinv(np.transpose(X).dot(X)).dot(np.transpose(X).dot(y))\n",
    "    return beta_hat\n",
    "    "
   ]
  },
  {
   "cell_type": "code",
   "execution_count": 7,
   "metadata": {},
   "outputs": [],
   "source": [
    "# Ridge regression function\n",
    "\n",
    "# X - a numpy array representing the independent variable/sequence\n",
    "# y - a numpy array representing the dependent variable\n",
    "# Returns beta_hat_R such that y=BX where beta_hat reduces the least squares error and the coefficients of beta_hat_R\n",
    "def RidgeRegressionV1(X, y, l=0):\n",
    "    beta_hat_R = np.linalg.pinv(X.transpose().dot(X)+l*np.identity(len(X[0]))).dot(X.transpose()).dot(y)\n",
    "    return beta_hat_R"
   ]
  },
  {
   "cell_type": "code",
   "execution_count": 8,
   "metadata": {},
   "outputs": [
    {
     "data": {
      "image/png": "[encoded data removed]",
      "text/plain": [
       "<Figure size 432x288 with 1 Axes>"
      ]
     },
     "metadata": {
      "needs_background": "light"
     },
     "output_type": "display_data"
    },
    {
     "name": "stdout",
     "output_type": "stream",
     "text": [
      "r = 0.9023017842213618\n",
      "mserr = 6.167154083424245\n"
     ]
    }
   ],
   "source": [
    "# 10% Cross Validation with Least Squares Linear Regression\n",
    "import random\n",
    "random.seed(10)\n",
    "\n",
    "# First divide up the indexes into 10 different random test sets\n",
    "test_sets = [[] for i in range(10)] # Ten empty lists\n",
    "total = [i for i in range (len(AA_seqs_encoded))] # List of all possible indexes of data\n",
    "for i in range (len(AA_seqs_encoded)):\n",
    "    rand_ind = random.randint(0,len(total)-1)\n",
    "    test_sets[i%10].append(total.pop(rand_ind))\n",
    "\n",
    "\n",
    "# Now create 10 regression models based on each train set and predict y values from the test set for each one\n",
    "y_hats = []\n",
    "y_actual = []\n",
    "mse = 0\n",
    "for i in range(10):\n",
    "    # Initialize train and test set\n",
    "    copy_train_X, copy_train_y, copy_test_X, copy_test_y = ([] for j in range(4))\n",
    "    for j in range(len(AA_seqs_encoded)):\n",
    "        if j in test_sets[i]:\n",
    "            copy_test_X.append(AA_seqs_encoded[j])\n",
    "            copy_test_y.append(y_data[j])\n",
    "        else:\n",
    "            copy_train_X.append(AA_seqs_encoded[j])\n",
    "            copy_train_y.append(y_data[j])\n",
    "    train_X = np.array(copy_train_X)\n",
    "    train_y = np.array(copy_train_y)\n",
    "    test_X = np.array(copy_test_X)\n",
    "    test_y = np.array(copy_test_y)\n",
    "    # Linear regression model\n",
    "    beta_hat = LinearRegressionV1(train_X, train_y)\n",
    "    \n",
    "    for i in range(len(test_y)):\n",
    "        y_hats.append(beta_hat.dot(test_X[i]))\n",
    "        y_actual.append(test_y[i])\n",
    "        mse += (test_y[i]-beta_hat.dot(test_X[i]))**2\n",
    "\n",
    "r = np.corrcoef(np.array(y_actual), np.array(y_hats))[0][1]\n",
    "mse = mse/len(y_actual)\n",
    "import matplotlib.pyplot as plt\n",
    "plt.plot(y_actual,y_hats,'o')\n",
    "plt.show()\n",
    "print ('r = ' + str(r))\n",
    "print ('mserr = ' + str(mse))\n",
    "        "
   ]
  },
  {
   "cell_type": "code",
   "execution_count": 9,
   "metadata": {},
   "outputs": [],
   "source": [
    "# Leave-One-Out Cross Validation Function\n",
    "\n",
    "# X - a list representing the independent variable/sequence\n",
    "# y - a list representing the dependent variable\n",
    "# model - a function that runs some form of regression\n",
    "# Returns y_hats - the predicted value of X[i] is represented as y_hats[i]\n",
    "# Returns r - the correlation coefficient for this model\n",
    "# Returns mserr - the mean square error for this model\n",
    "def leaveOneOutCV(X, y, model, l=0):\n",
    "    y_hats = []\n",
    "    mserr = 0\n",
    "    for i in range(len(X)):\n",
    "        train_X = X.copy()\n",
    "        train_y = y.copy()\n",
    "        train_X.pop(i)\n",
    "        train_y.pop(i)\n",
    "        train_X = np.array(train_X)\n",
    "        train_y = np.array(train_y)\n",
    "        beta = 0\n",
    "        if (model == LinearRegressionV1):\n",
    "            beta = model(train_X, train_y)\n",
    "        elif (model == RidgeRegressionV1):\n",
    "            beta = model(train_X, train_y, l) #Could condense these if statements into 2 lines with ridge reg\n",
    "        y_hats.append(beta.dot(X[i]))\n",
    "        mserr += (y[i]-beta.dot(X[i]))**2\n",
    "    mserr = mserr/len(X)\n",
    "    r = np.corrcoef(np.array(y),np.array(y_hats))[0][1]\n",
    "    return y_hats, r, mserr\n",
    "    "
   ]
  },
  {
   "cell_type": "code",
   "execution_count": 10,
   "metadata": {},
   "outputs": [
    {
     "data": {
      "image/png": "[encoded data removed]",
      "text/plain": [
       "<Figure size 432x288 with 1 Axes>"
      ]
     },
     "metadata": {
      "needs_background": "light"
     },
     "output_type": "display_data"
    },
    {
     "name": "stdout",
     "output_type": "stream",
     "text": [
      "0.9001551492371886\n",
      "6.298191502700996\n"
     ]
    }
   ],
   "source": [
    "# Leave-One-Out CV function check \n",
    "y_hats, r, mserr = leaveOneOutCV(AA_seqs_encoded, y_data, RidgeRegressionV1)\n",
    "\n",
    "import matplotlib.pyplot as plt\n",
    "plt.plot(y_data,y_hats,'o')\n",
    "plt.show()\n",
    "print (r)\n",
    "print (mserr)"
   ]
  },
  {
   "cell_type": "code",
   "execution_count": 11,
   "metadata": {},
   "outputs": [],
   "source": [
    "# 10% Cross Validation Function\n",
    "\n",
    "# X - a list representing the independent variable/sequence\n",
    "# y - a list representing the dependent variable\n",
    "# model - a function that runs some form of regression\n",
    "# seed - sets a seed for randomly selecting the 10 lists\n",
    "# Returns y_actual - values of y, in different order\n",
    "# Returns y_hats - the predicted value of X[i] is represented as y_hats[i]\n",
    "# Returns r - the correlation coefficient for this model\n",
    "# Returns mserr - the mean square error for this model\n",
    "\n",
    "\n",
    "def tenPercentCV(X, y, model, seed = 10, l=0):\n",
    "    # Sets a seed \n",
    "    import random\n",
    "    random.seed(seed)\n",
    "    \n",
    "    # First divide up the indexes into 10 different random test sets\n",
    "    test_sets = [[] for i in range(10)] # Ten empty lists\n",
    "    total = [i for i in range (len(X))] # List of all possible indexes of data\n",
    "    for i in range (len(X)):\n",
    "        rand_ind = random.randint(0,len(total)-1)\n",
    "        test_sets[i%10].append(total.pop(rand_ind))\n",
    "\n",
    "    # Now create 10 regression models based on each train set and predict y values from the test set for each one\n",
    "    y_hats = []\n",
    "    y_actual = []\n",
    "    mse = 0\n",
    "    for i in range(10):\n",
    "        # Initialize train and test set\n",
    "        copy_train_X, copy_train_y, copy_test_X, copy_test_y = ([] for j in range(4))\n",
    "        for j in range(len(X)):\n",
    "            if j in test_sets[i]:\n",
    "                copy_test_X.append(X[j])\n",
    "                copy_test_y.append(y[j])\n",
    "            else:\n",
    "                copy_train_X.append(X[j])\n",
    "                copy_train_y.append(y[j])\n",
    "        train_X = np.array(copy_train_X)\n",
    "        train_y = np.array(copy_train_y)\n",
    "        test_X = np.array(copy_test_X)\n",
    "        test_y = np.array(copy_test_y)\n",
    "        beta = 0\n",
    "        if (model == LinearRegressionV1):\n",
    "            beta = model(train_X, train_y)\n",
    "        elif (model == RidgeRegressionV1):\n",
    "            beta = model(train_x, train_y, l) #Could condense these if statements into 2 lines with ridge reg\n",
    "        # Predicts y values and appends them to their respective lists\n",
    "        for i in range(len(test_y)):\n",
    "            y_hats.append(beta.dot(test_X[i]))\n",
    "            y_actual.append(test_y[i])\n",
    "            mse += (test_y[i]-beta.dot(test_X[i]))**2\n",
    "            \n",
    "    r = np.corrcoef(np.array(y_actual), np.array(y_hats))[0][1]\n",
    "    mse = mse/len(y_actual)"
   ]
  },
  {
   "cell_type": "code",
   "execution_count": 51,
   "metadata": {},
   "outputs": [
    {
     "data": {
      "image/png": "[encoded data removed]",
      "text/plain": [
       "<Figure size 432x288 with 1 Axes>"
      ]
     },
     "metadata": {
      "needs_background": "light"
     },
     "output_type": "display_data"
    },
    {
     "name": "stdout",
     "output_type": "stream",
     "text": [
      "0.9001551492371886\n",
      "6.298191502700996\n"
     ]
    }
   ],
   "source": [
    "# 10% CV function check\n",
    "y_hats, r, mserr = leaveOneOutCV(AA_seqs_encoded, y_data, RidgeRegressionV1)\n",
    "\n",
    "import matplotlib.pyplot as plt\n",
    "plt.plot(y_data,y_hats,'o')\n",
    "plt.show()\n",
    "print (r)\n",
    "print (mserr)"
   ]
  },
  {
   "cell_type": "code",
   "execution_count": 35,
   "metadata": {},
   "outputs": [],
   "source": [
    "lambdas = np.logspace(-10, 1.5)\n",
    "#print (lambdas)\n",
    "\n",
    "mserrs = []\n",
    "\n",
    "for i in lambdas:\n",
    "    Y_hats, r, mserr = leaveOneOutCV(AA_seqs_encoded, y_data, RidgeRegressionV1, i)\n",
    "    mserrs.append(mserr)\n"
   ]
  },
  {
   "cell_type": "code",
   "execution_count": 36,
   "metadata": {},
   "outputs": [
    {
     "name": "stdout",
     "output_type": "stream",
     "text": [
      "[-23.025850929940457, -22.485448306074506, -21.94504568220856, -21.404643058342607, -20.86424043447666, -20.32383781061071, -19.78343518674476, -19.243032562878813, -18.702629939012862, -18.16222731514691, -17.62182469128096, -17.081422067415012, -16.541019443549065, -16.000616819683113, -15.460214195817162, -14.919811571951213, -14.379408948085263, -13.839006324219314, -13.298603700353365, -12.758201076487415, -12.217798452621466, -11.677395828755516, -11.136993204889567, -10.596590581023618, -10.056187957157668, -9.515785333291719, -8.97538270942577, -8.434980085559818, -7.89457746169387, -7.35417483782792, -6.813772213961971, -6.273369590096022, -5.732966966230072, -5.192564342364123, -4.652161718498173, -4.111759094632222, -3.571356470766273, -3.0309538469003234, -2.490551223034374, -1.9501485991684249, -1.4097459753024755, -0.8693433514365261, -0.32894072757057685, 0.2114618962953725, 0.7518645201613219, 1.2922671440272713, 1.8326697678932207, 2.3730723917591696, 2.913475015625119, 3.4538776394910684]\n",
      "[6.439311663636093, 6.3332183350456015, 6.277790696278824, 6.299621576288558, 6.283240157305982, 6.2967674825141104, 6.304049480723478, 6.300010924410268, 6.2975676684124355, 6.298135780860334, 6.298664065789388, 6.298643735039608, 6.298136395115529, 6.298012527267321, 6.298076080897886, 6.298114557633121, 6.298135849134148, 6.29815286977603, 6.2981347005615955, 6.298136373374275, 6.298140426700901, 6.298140343393922, 6.298141734029562, 6.298143472532903, 6.298145294957934, 6.298148671675965, 6.2981551058387035, 6.298166045690759, 6.298184746629395, 6.298217034154045, 6.298273053962061, 6.298370808971351, 6.2985433724389805, 6.298853506413296, 6.29942679366549, 6.300530922041782, 6.302777450025508, 6.307656219712078, 6.318981923977572, 6.346814740723999, 6.417854054739024, 6.601531143294145, 7.068818323944373, 8.199322609477116, 10.697043966905536, 15.513591798985688, 23.281901787698683, 33.47509928525764, 44.33293061430827, 53.9544968875265]\n"
     ]
    },
    {
     "data": {
      "image/png": "[encoded data removed]",
      "text/plain": [
       "<Figure size 432x288 with 1 Axes>"
      ]
     },
     "metadata": {
      "needs_background": "light"
     },
     "output_type": "display_data"
    }
   ],
   "source": [
    "import matplotlib.pyplot as plt\n",
    "\n",
    "ls = []\n",
    "for i in range(len(lambdas)):\n",
    "    ls.append(np.log(lambdas[i]))\n",
    "print (ls)\n",
    "\n",
    "plt.plot(ls,mserrs)\n",
    "plt.xlabel('log(lamdba)')\n",
    "plt.ylabel('mserr')\n",
    "plt.axis([-25,5,6,7])\n",
    "print (mserrs)\n",
    "plt.show()"
   ]
  },
  {
   "cell_type": "code",
   "execution_count": 37,
   "metadata": {},
   "outputs": [
    {
     "name": "stdout",
     "output_type": "stream",
     "text": [
      "2.94705170255181e-10\n"
     ]
    }
   ],
   "source": [
    "print(lambdas[mserrs.index(min(mserrs))])\n",
    "std_l = lambdas[mserrs.index(min(mserrs))]"
   ]
  },
  {
   "cell_type": "code",
   "execution_count": 49,
   "metadata": {},
   "outputs": [
    {
     "name": "stdout",
     "output_type": "stream",
     "text": [
      "[1, 2, 3, 4, 5, 6, 7, 8, 9, 10, 11, 12, 13, 14, 15, 16, 17, 18, 19, 20, 21, 22, 23, 24, 25, 26, 27, 28, 29, 30]\n"
     ]
    }
   ],
   "source": [
    "#Generate Machine Learning Curve\n",
    "\n",
    "#Set aside 10% of the data, this will be used to assess the error of each model\n",
    "\n",
    "def predictTestSet(train_X, train_y, model, test_X, test_y, l=0):\n",
    "    train_X = np.array(train_X)\n",
    "    train_y = np.array(train_y)\n",
    "    test_X = np.array(test_X)\n",
    "    test_y = np.array(test_y)\n",
    "    beta = 0\n",
    "    if (model == LinearRegressionV1):\n",
    "        beta = model(train_X, train_y)\n",
    "    elif (model == RidgeRegressionV1):\n",
    "        beta = model(train_X, train_y, l) #Could condense these if statements into 2 lines with ridge reg\n",
    "    y_hats = []\n",
    "    mserr = 0\n",
    "    for i in range(len(test_X)):\n",
    "        y_hat = beta.dot(test_X[i])\n",
    "        y_hats.append(y_hat)\n",
    "        mserr += (y_hat-test_y[i])**2\n",
    "    r = np.corrcoef(test_y, np.array(y_hats))[0][1]\n",
    "    return y_hats, r, mserr\n",
    "\n",
    "X = AA_seqs_encoded\n",
    "y = y_data\n",
    "\n",
    "seed = 10\n",
    "\n",
    "import random\n",
    "random.seed(seed)\n",
    "\n",
    "\n",
    "\n",
    "test_set_X = []\n",
    "test_set_y = []\n",
    "total_train_set_X = []\n",
    "total_train_set_y = []\n",
    "total = [i for i in range (len(X))] # List of all possible indexes of data\n",
    "\n",
    "for i in range (len(X)):\n",
    "    rand_ind = random.randint(0,len(total)-1)\n",
    "    ind = total.pop(rand_ind)\n",
    "    if (i%10 == 0):\n",
    "        test_set_X.append(X[ind])\n",
    "        test_set_y.append(y[ind])\n",
    "    else:\n",
    "        total_train_set_X.append(X[ind])\n",
    "        total_train_set_y.append(y[ind])\n",
    "\n",
    "\n",
    "#Run a simulations for 10 numbers of data points\n",
    "train_sizes = [i+1 for i in range(30)]\n",
    "print(train_sizes)\n",
    "mserr_ML_curve = []\n",
    "r_ML_curve = []\n",
    "for i in train_sizes:\n",
    "    total_train_set_X_c = total_train_set_X.copy()\n",
    "    total_train_set_y_c = total_train_set_y.copy()\n",
    "    train_X = []\n",
    "    train_y = []\n",
    "    for j in range(i):\n",
    "        rand_ind = random.randint(0,len(total_train_set_X_c)-1)\n",
    "        train_X.append(total_train_set_X_c.pop(rand_ind))\n",
    "        train_y.append(total_train_set_y_c.pop(rand_ind))\n",
    "    y_hats, r, mserr = predictTestSet(train_X, train_y, RidgeRegressionV1, test_set_X, test_set_y, std_l)\n",
    "    mserr_ML_curve.append(mserr)\n",
    "    r_ML_curve.append(r)\n",
    "    \n",
    "        \n"
   ]
  },
  {
   "cell_type": "code",
   "execution_count": 50,
   "metadata": {},
   "outputs": [
    {
     "data": {
      "image/png": "[encoded data removed]",
      "text/plain": [
       "<Figure size 432x288 with 1 Axes>"
      ]
     },
     "metadata": {
      "needs_background": "light"
     },
     "output_type": "display_data"
    }
   ],
   "source": [
    "plt.plot(train_sizes,mserr_ML_curve,'o')\n",
    "plt.xlabel('Training size')\n",
    "plt.ylabel('Average mserr')\n",
    "plt.show()"
   ]
  },
  {
   "cell_type": "code",
   "execution_count": null,
   "metadata": {},
   "outputs": [],
   "source": []
  }
 ],
 "metadata": {
  "kernelspec": {
   "display_name": "Python 3",
   "language": "python",
   "name": "python3"
  },
  "language_info": {
   "codemirror_mode": {
    "name": "ipython",
    "version": 3
   },
   "file_extension": ".py",
   "mimetype": "text/x-python",
   "name": "python",
   "nbconvert_exporter": "python",
   "pygments_lexer": "ipython3",
   "version": "3.7.3"
  }
 },
 "nbformat": 4,
 "nbformat_minor": 4
}
